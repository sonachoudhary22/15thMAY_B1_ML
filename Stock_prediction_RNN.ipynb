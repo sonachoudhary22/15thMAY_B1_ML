{
 "cells": [
  {
   "cell_type": "code",
   "execution_count": 36,
   "metadata": {},
   "outputs": [],
   "source": [
    "import pandas as pd\n",
    "import numpy as np\n",
    "import matplotlib.pyplot as plt"
   ]
  },
  {
   "cell_type": "code",
   "execution_count": 37,
   "metadata": {},
   "outputs": [
    {
     "data": {
      "text/html": [
       "<div>\n",
       "<style scoped>\n",
       "    .dataframe tbody tr th:only-of-type {\n",
       "        vertical-align: middle;\n",
       "    }\n",
       "\n",
       "    .dataframe tbody tr th {\n",
       "        vertical-align: top;\n",
       "    }\n",
       "\n",
       "    .dataframe thead th {\n",
       "        text-align: right;\n",
       "    }\n",
       "</style>\n",
       "<table border=\"1\" class=\"dataframe\">\n",
       "  <thead>\n",
       "    <tr style=\"text-align: right;\">\n",
       "      <th></th>\n",
       "      <th>Date</th>\n",
       "      <th>Open</th>\n",
       "      <th>High</th>\n",
       "      <th>Low</th>\n",
       "      <th>Close</th>\n",
       "      <th>Volume</th>\n",
       "      <th>OpenInt</th>\n",
       "      <th>Stock</th>\n",
       "    </tr>\n",
       "  </thead>\n",
       "  <tbody>\n",
       "    <tr>\n",
       "      <th>0</th>\n",
       "      <td>1984-09-07</td>\n",
       "      <td>0.42388</td>\n",
       "      <td>0.42902</td>\n",
       "      <td>0.41874</td>\n",
       "      <td>0.42388</td>\n",
       "      <td>23220030</td>\n",
       "      <td>0</td>\n",
       "      <td>AAPL</td>\n",
       "    </tr>\n",
       "    <tr>\n",
       "      <th>1</th>\n",
       "      <td>1984-09-10</td>\n",
       "      <td>0.42388</td>\n",
       "      <td>0.42516</td>\n",
       "      <td>0.41366</td>\n",
       "      <td>0.42134</td>\n",
       "      <td>18022532</td>\n",
       "      <td>0</td>\n",
       "      <td>AAPL</td>\n",
       "    </tr>\n",
       "    <tr>\n",
       "      <th>2</th>\n",
       "      <td>1984-09-11</td>\n",
       "      <td>0.42516</td>\n",
       "      <td>0.43668</td>\n",
       "      <td>0.42516</td>\n",
       "      <td>0.42902</td>\n",
       "      <td>42498199</td>\n",
       "      <td>0</td>\n",
       "      <td>AAPL</td>\n",
       "    </tr>\n",
       "    <tr>\n",
       "      <th>3</th>\n",
       "      <td>1984-09-12</td>\n",
       "      <td>0.42902</td>\n",
       "      <td>0.43157</td>\n",
       "      <td>0.41618</td>\n",
       "      <td>0.41618</td>\n",
       "      <td>37125801</td>\n",
       "      <td>0</td>\n",
       "      <td>AAPL</td>\n",
       "    </tr>\n",
       "    <tr>\n",
       "      <th>4</th>\n",
       "      <td>1984-09-13</td>\n",
       "      <td>0.43927</td>\n",
       "      <td>0.44052</td>\n",
       "      <td>0.43927</td>\n",
       "      <td>0.43927</td>\n",
       "      <td>57822062</td>\n",
       "      <td>0</td>\n",
       "      <td>AAPL</td>\n",
       "    </tr>\n",
       "  </tbody>\n",
       "</table>\n",
       "</div>"
      ],
      "text/plain": [
       "         Date     Open     High      Low    Close    Volume  OpenInt Stock\n",
       "0  1984-09-07  0.42388  0.42902  0.41874  0.42388  23220030        0  AAPL\n",
       "1  1984-09-10  0.42388  0.42516  0.41366  0.42134  18022532        0  AAPL\n",
       "2  1984-09-11  0.42516  0.43668  0.42516  0.42902  42498199        0  AAPL\n",
       "3  1984-09-12  0.42902  0.43157  0.41618  0.41618  37125801        0  AAPL\n",
       "4  1984-09-13  0.43927  0.44052  0.43927  0.43927  57822062        0  AAPL"
      ]
     },
     "execution_count": 37,
     "metadata": {},
     "output_type": "execute_result"
    }
   ],
   "source": [
    "stocks = pd.read_csv('stock_data.csv')\n",
    "stocks.head()"
   ]
  },
  {
   "cell_type": "code",
   "execution_count": 38,
   "metadata": {},
   "outputs": [
    {
     "data": {
      "text/plain": [
       "AAPL    8364\n",
       "MSFT    7983\n",
       "TSLA    1858\n",
       "FB      1381\n",
       "Name: Stock, dtype: int64"
      ]
     },
     "execution_count": 38,
     "metadata": {},
     "output_type": "execute_result"
    }
   ],
   "source": [
    "stocks['Stock'].value_counts()"
   ]
  },
  {
   "cell_type": "code",
   "execution_count": 39,
   "metadata": {},
   "outputs": [],
   "source": [
    "mstf = stocks[['Date','Open']][stocks['Stock']=='MSFT']"
   ]
  },
  {
   "cell_type": "code",
   "execution_count": 40,
   "metadata": {},
   "outputs": [
    {
     "data": {
      "text/html": [
       "<div>\n",
       "<style scoped>\n",
       "    .dataframe tbody tr th:only-of-type {\n",
       "        vertical-align: middle;\n",
       "    }\n",
       "\n",
       "    .dataframe tbody tr th {\n",
       "        vertical-align: top;\n",
       "    }\n",
       "\n",
       "    .dataframe thead th {\n",
       "        text-align: right;\n",
       "    }\n",
       "</style>\n",
       "<table border=\"1\" class=\"dataframe\">\n",
       "  <thead>\n",
       "    <tr style=\"text-align: right;\">\n",
       "      <th></th>\n",
       "      <th>Date</th>\n",
       "      <th>Open</th>\n",
       "    </tr>\n",
       "  </thead>\n",
       "  <tbody>\n",
       "    <tr>\n",
       "      <th>10222</th>\n",
       "      <td>1986-03-13</td>\n",
       "      <td>0.06720</td>\n",
       "    </tr>\n",
       "    <tr>\n",
       "      <th>10223</th>\n",
       "      <td>1986-03-14</td>\n",
       "      <td>0.07533</td>\n",
       "    </tr>\n",
       "    <tr>\n",
       "      <th>10224</th>\n",
       "      <td>1986-03-17</td>\n",
       "      <td>0.07533</td>\n",
       "    </tr>\n",
       "    <tr>\n",
       "      <th>10225</th>\n",
       "      <td>1986-03-18</td>\n",
       "      <td>0.07533</td>\n",
       "    </tr>\n",
       "    <tr>\n",
       "      <th>10226</th>\n",
       "      <td>1986-03-19</td>\n",
       "      <td>0.07533</td>\n",
       "    </tr>\n",
       "    <tr>\n",
       "      <th>10227</th>\n",
       "      <td>1986-03-20</td>\n",
       "      <td>0.07533</td>\n",
       "    </tr>\n",
       "    <tr>\n",
       "      <th>10228</th>\n",
       "      <td>1986-03-21</td>\n",
       "      <td>0.07533</td>\n",
       "    </tr>\n",
       "    <tr>\n",
       "      <th>10229</th>\n",
       "      <td>1986-03-24</td>\n",
       "      <td>0.06720</td>\n",
       "    </tr>\n",
       "    <tr>\n",
       "      <th>10230</th>\n",
       "      <td>1986-03-25</td>\n",
       "      <td>0.06720</td>\n",
       "    </tr>\n",
       "    <tr>\n",
       "      <th>10231</th>\n",
       "      <td>1986-03-26</td>\n",
       "      <td>0.06720</td>\n",
       "    </tr>\n",
       "    <tr>\n",
       "      <th>10232</th>\n",
       "      <td>1986-03-27</td>\n",
       "      <td>0.06720</td>\n",
       "    </tr>\n",
       "    <tr>\n",
       "      <th>10233</th>\n",
       "      <td>1986-03-31</td>\n",
       "      <td>0.07533</td>\n",
       "    </tr>\n",
       "    <tr>\n",
       "      <th>10234</th>\n",
       "      <td>1986-04-01</td>\n",
       "      <td>0.07533</td>\n",
       "    </tr>\n",
       "    <tr>\n",
       "      <th>10235</th>\n",
       "      <td>1986-04-02</td>\n",
       "      <td>0.06720</td>\n",
       "    </tr>\n",
       "    <tr>\n",
       "      <th>10236</th>\n",
       "      <td>1986-04-03</td>\n",
       "      <td>0.07533</td>\n",
       "    </tr>\n",
       "    <tr>\n",
       "      <th>10237</th>\n",
       "      <td>1986-04-04</td>\n",
       "      <td>0.07533</td>\n",
       "    </tr>\n",
       "    <tr>\n",
       "      <th>10238</th>\n",
       "      <td>1986-04-07</td>\n",
       "      <td>0.07533</td>\n",
       "    </tr>\n",
       "    <tr>\n",
       "      <th>10239</th>\n",
       "      <td>1986-04-08</td>\n",
       "      <td>0.06720</td>\n",
       "    </tr>\n",
       "    <tr>\n",
       "      <th>10240</th>\n",
       "      <td>1986-04-09</td>\n",
       "      <td>0.07533</td>\n",
       "    </tr>\n",
       "    <tr>\n",
       "      <th>10241</th>\n",
       "      <td>1986-04-10</td>\n",
       "      <td>0.07533</td>\n",
       "    </tr>\n",
       "    <tr>\n",
       "      <th>10242</th>\n",
       "      <td>1986-04-11</td>\n",
       "      <td>0.07533</td>\n",
       "    </tr>\n",
       "    <tr>\n",
       "      <th>10243</th>\n",
       "      <td>1986-04-14</td>\n",
       "      <td>0.07533</td>\n",
       "    </tr>\n",
       "    <tr>\n",
       "      <th>10244</th>\n",
       "      <td>1986-04-15</td>\n",
       "      <td>0.07533</td>\n",
       "    </tr>\n",
       "    <tr>\n",
       "      <th>10245</th>\n",
       "      <td>1986-04-16</td>\n",
       "      <td>0.07533</td>\n",
       "    </tr>\n",
       "    <tr>\n",
       "      <th>10246</th>\n",
       "      <td>1986-04-17</td>\n",
       "      <td>0.07533</td>\n",
       "    </tr>\n",
       "    <tr>\n",
       "      <th>10247</th>\n",
       "      <td>1986-04-18</td>\n",
       "      <td>0.07533</td>\n",
       "    </tr>\n",
       "    <tr>\n",
       "      <th>10248</th>\n",
       "      <td>1986-04-21</td>\n",
       "      <td>0.07533</td>\n",
       "    </tr>\n",
       "    <tr>\n",
       "      <th>10249</th>\n",
       "      <td>1986-04-22</td>\n",
       "      <td>0.07533</td>\n",
       "    </tr>\n",
       "    <tr>\n",
       "      <th>10250</th>\n",
       "      <td>1986-04-23</td>\n",
       "      <td>0.07533</td>\n",
       "    </tr>\n",
       "    <tr>\n",
       "      <th>10251</th>\n",
       "      <td>1986-04-24</td>\n",
       "      <td>0.07533</td>\n",
       "    </tr>\n",
       "    <tr>\n",
       "      <th>...</th>\n",
       "      <td>...</td>\n",
       "      <td>...</td>\n",
       "    </tr>\n",
       "    <tr>\n",
       "      <th>18175</th>\n",
       "      <td>2017-10-02</td>\n",
       "      <td>74.71000</td>\n",
       "    </tr>\n",
       "    <tr>\n",
       "      <th>18176</th>\n",
       "      <td>2017-10-03</td>\n",
       "      <td>74.67000</td>\n",
       "    </tr>\n",
       "    <tr>\n",
       "      <th>18177</th>\n",
       "      <td>2017-10-04</td>\n",
       "      <td>74.00000</td>\n",
       "    </tr>\n",
       "    <tr>\n",
       "      <th>18178</th>\n",
       "      <td>2017-10-05</td>\n",
       "      <td>75.22000</td>\n",
       "    </tr>\n",
       "    <tr>\n",
       "      <th>18179</th>\n",
       "      <td>2017-10-06</td>\n",
       "      <td>75.67000</td>\n",
       "    </tr>\n",
       "    <tr>\n",
       "      <th>18180</th>\n",
       "      <td>2017-10-09</td>\n",
       "      <td>75.97000</td>\n",
       "    </tr>\n",
       "    <tr>\n",
       "      <th>18181</th>\n",
       "      <td>2017-10-10</td>\n",
       "      <td>76.33000</td>\n",
       "    </tr>\n",
       "    <tr>\n",
       "      <th>18182</th>\n",
       "      <td>2017-10-11</td>\n",
       "      <td>76.36000</td>\n",
       "    </tr>\n",
       "    <tr>\n",
       "      <th>18183</th>\n",
       "      <td>2017-10-12</td>\n",
       "      <td>76.49000</td>\n",
       "    </tr>\n",
       "    <tr>\n",
       "      <th>18184</th>\n",
       "      <td>2017-10-13</td>\n",
       "      <td>77.59000</td>\n",
       "    </tr>\n",
       "    <tr>\n",
       "      <th>18185</th>\n",
       "      <td>2017-10-16</td>\n",
       "      <td>77.42000</td>\n",
       "    </tr>\n",
       "    <tr>\n",
       "      <th>18186</th>\n",
       "      <td>2017-10-17</td>\n",
       "      <td>77.47000</td>\n",
       "    </tr>\n",
       "    <tr>\n",
       "      <th>18187</th>\n",
       "      <td>2017-10-18</td>\n",
       "      <td>77.67000</td>\n",
       "    </tr>\n",
       "    <tr>\n",
       "      <th>18188</th>\n",
       "      <td>2017-10-19</td>\n",
       "      <td>77.57000</td>\n",
       "    </tr>\n",
       "    <tr>\n",
       "      <th>18189</th>\n",
       "      <td>2017-10-20</td>\n",
       "      <td>78.32000</td>\n",
       "    </tr>\n",
       "    <tr>\n",
       "      <th>18190</th>\n",
       "      <td>2017-10-23</td>\n",
       "      <td>78.99000</td>\n",
       "    </tr>\n",
       "    <tr>\n",
       "      <th>18191</th>\n",
       "      <td>2017-10-24</td>\n",
       "      <td>78.90000</td>\n",
       "    </tr>\n",
       "    <tr>\n",
       "      <th>18192</th>\n",
       "      <td>2017-10-25</td>\n",
       "      <td>78.58000</td>\n",
       "    </tr>\n",
       "    <tr>\n",
       "      <th>18193</th>\n",
       "      <td>2017-10-26</td>\n",
       "      <td>79.20000</td>\n",
       "    </tr>\n",
       "    <tr>\n",
       "      <th>18194</th>\n",
       "      <td>2017-10-27</td>\n",
       "      <td>84.37000</td>\n",
       "    </tr>\n",
       "    <tr>\n",
       "      <th>18195</th>\n",
       "      <td>2017-10-30</td>\n",
       "      <td>83.80000</td>\n",
       "    </tr>\n",
       "    <tr>\n",
       "      <th>18196</th>\n",
       "      <td>2017-10-31</td>\n",
       "      <td>84.36000</td>\n",
       "    </tr>\n",
       "    <tr>\n",
       "      <th>18197</th>\n",
       "      <td>2017-11-01</td>\n",
       "      <td>83.68000</td>\n",
       "    </tr>\n",
       "    <tr>\n",
       "      <th>18198</th>\n",
       "      <td>2017-11-02</td>\n",
       "      <td>83.35000</td>\n",
       "    </tr>\n",
       "    <tr>\n",
       "      <th>18199</th>\n",
       "      <td>2017-11-03</td>\n",
       "      <td>84.08000</td>\n",
       "    </tr>\n",
       "    <tr>\n",
       "      <th>18200</th>\n",
       "      <td>2017-11-06</td>\n",
       "      <td>84.20000</td>\n",
       "    </tr>\n",
       "    <tr>\n",
       "      <th>18201</th>\n",
       "      <td>2017-11-07</td>\n",
       "      <td>84.77000</td>\n",
       "    </tr>\n",
       "    <tr>\n",
       "      <th>18202</th>\n",
       "      <td>2017-11-08</td>\n",
       "      <td>84.14000</td>\n",
       "    </tr>\n",
       "    <tr>\n",
       "      <th>18203</th>\n",
       "      <td>2017-11-09</td>\n",
       "      <td>84.11000</td>\n",
       "    </tr>\n",
       "    <tr>\n",
       "      <th>18204</th>\n",
       "      <td>2017-11-10</td>\n",
       "      <td>83.79000</td>\n",
       "    </tr>\n",
       "  </tbody>\n",
       "</table>\n",
       "<p>7983 rows × 2 columns</p>\n",
       "</div>"
      ],
      "text/plain": [
       "             Date      Open\n",
       "10222  1986-03-13   0.06720\n",
       "10223  1986-03-14   0.07533\n",
       "10224  1986-03-17   0.07533\n",
       "10225  1986-03-18   0.07533\n",
       "10226  1986-03-19   0.07533\n",
       "10227  1986-03-20   0.07533\n",
       "10228  1986-03-21   0.07533\n",
       "10229  1986-03-24   0.06720\n",
       "10230  1986-03-25   0.06720\n",
       "10231  1986-03-26   0.06720\n",
       "10232  1986-03-27   0.06720\n",
       "10233  1986-03-31   0.07533\n",
       "10234  1986-04-01   0.07533\n",
       "10235  1986-04-02   0.06720\n",
       "10236  1986-04-03   0.07533\n",
       "10237  1986-04-04   0.07533\n",
       "10238  1986-04-07   0.07533\n",
       "10239  1986-04-08   0.06720\n",
       "10240  1986-04-09   0.07533\n",
       "10241  1986-04-10   0.07533\n",
       "10242  1986-04-11   0.07533\n",
       "10243  1986-04-14   0.07533\n",
       "10244  1986-04-15   0.07533\n",
       "10245  1986-04-16   0.07533\n",
       "10246  1986-04-17   0.07533\n",
       "10247  1986-04-18   0.07533\n",
       "10248  1986-04-21   0.07533\n",
       "10249  1986-04-22   0.07533\n",
       "10250  1986-04-23   0.07533\n",
       "10251  1986-04-24   0.07533\n",
       "...           ...       ...\n",
       "18175  2017-10-02  74.71000\n",
       "18176  2017-10-03  74.67000\n",
       "18177  2017-10-04  74.00000\n",
       "18178  2017-10-05  75.22000\n",
       "18179  2017-10-06  75.67000\n",
       "18180  2017-10-09  75.97000\n",
       "18181  2017-10-10  76.33000\n",
       "18182  2017-10-11  76.36000\n",
       "18183  2017-10-12  76.49000\n",
       "18184  2017-10-13  77.59000\n",
       "18185  2017-10-16  77.42000\n",
       "18186  2017-10-17  77.47000\n",
       "18187  2017-10-18  77.67000\n",
       "18188  2017-10-19  77.57000\n",
       "18189  2017-10-20  78.32000\n",
       "18190  2017-10-23  78.99000\n",
       "18191  2017-10-24  78.90000\n",
       "18192  2017-10-25  78.58000\n",
       "18193  2017-10-26  79.20000\n",
       "18194  2017-10-27  84.37000\n",
       "18195  2017-10-30  83.80000\n",
       "18196  2017-10-31  84.36000\n",
       "18197  2017-11-01  83.68000\n",
       "18198  2017-11-02  83.35000\n",
       "18199  2017-11-03  84.08000\n",
       "18200  2017-11-06  84.20000\n",
       "18201  2017-11-07  84.77000\n",
       "18202  2017-11-08  84.14000\n",
       "18203  2017-11-09  84.11000\n",
       "18204  2017-11-10  83.79000\n",
       "\n",
       "[7983 rows x 2 columns]"
      ]
     },
     "execution_count": 40,
     "metadata": {},
     "output_type": "execute_result"
    }
   ],
   "source": [
    "mstf"
   ]
  },
  {
   "cell_type": "code",
   "execution_count": 41,
   "metadata": {},
   "outputs": [],
   "source": [
    "x=[]\n",
    "y=[]\n",
    "for i in range (100,len(mstf)):\n",
    "    x.append(mstf['Open'].values[i-100:i])\n",
    "    y.append(mstf['Open'].values[i])\n",
    "x = np.array(x)\n",
    "y = np.array(y)"
   ]
  },
  {
   "cell_type": "code",
   "execution_count": 42,
   "metadata": {},
   "outputs": [
    {
     "data": {
      "text/plain": [
       "7883"
      ]
     },
     "execution_count": 42,
     "metadata": {},
     "output_type": "execute_result"
    }
   ],
   "source": [
    "len(x)"
   ]
  },
  {
   "cell_type": "code",
   "execution_count": 43,
   "metadata": {},
   "outputs": [
    {
     "data": {
      "text/plain": [
       "(7883, 100)"
      ]
     },
     "execution_count": 43,
     "metadata": {},
     "output_type": "execute_result"
    }
   ],
   "source": [
    "x.shape"
   ]
  },
  {
   "cell_type": "code",
   "execution_count": 44,
   "metadata": {},
   "outputs": [],
   "source": [
    "x = np.reshape(x,(x.shape[0],x.shape[1],1))\n"
   ]
  },
  {
   "cell_type": "code",
   "execution_count": 45,
   "metadata": {},
   "outputs": [
    {
     "data": {
      "text/plain": [
       "(7883, 100, 1)"
      ]
     },
     "execution_count": 45,
     "metadata": {},
     "output_type": "execute_result"
    }
   ],
   "source": [
    "x.shape"
   ]
  },
  {
   "cell_type": "code",
   "execution_count": 46,
   "metadata": {},
   "outputs": [],
   "source": [
    "from keras.layers import LSTM\n",
    "import seaborn as sns\n",
    "\n",
    "from keras.layers import Dense\n",
    "from keras.models import Sequential\n",
    "from keras.utils.vis_utils import plot_model"
   ]
  },
  {
   "cell_type": "code",
   "execution_count": 47,
   "metadata": {},
   "outputs": [],
   "source": [
    "model = Sequential()\n",
    "model.add(LSTM(units=200, return_sequences=True, input_shape=(100,1)))\n",
    "model.add(LSTM(units=200, return_sequences=True))\n",
    "model.add(LSTM(units=200, return_sequences=True))\n",
    "model.add(LSTM(units=200, return_sequences=True))\n",
    "model.add(LSTM(units=200, return_sequences=True))\n",
    "model.add(LSTM(units=200))\n",
    "model.add(Dense(units=1))\n",
    "model.compile(optimizer='rmsprop', loss='mse', metrics=['mae','accuracy'])\n",
    "#plot_model(model, to_file='model_plot.png', show_shapes=True, show_layer_names=True)"
   ]
  },
  {
   "cell_type": "code",
   "execution_count": 33,
   "metadata": {},
   "outputs": [
    {
     "data": {
      "image/png": "[encoded data removed]",
      "text/plain": [
       "<Figure size 432x288 with 1 Axes>"
      ]
     },
     "metadata": {
      "needs_background": "light"
     },
     "output_type": "display_data"
    }
   ],
   "source": [
    "from keras_util import convert_drawer_model\n",
    "from keras_models import AlexNet\n",
    "from matplotlib_util import save_model_to_file\n",
    "# get Keras sequential model\n",
    "keras_sequential_model = AlexNet.get_model()\n",
    "model = convert_drawer_model(keras_sequential_model)\n",
    "\n",
    "# save as svg file\n",
    "model.save_fig(\"example.jpeg\")\n",
    "\n",
    "# save as pptx file\n",
    "#save_model_to_pptx(model, \"example.pptx\")\n",
    "\n",
    "# save via matplotlib\n",
    "save_model_to_file(model, \"example.pdf\")"
   ]
  },
  {
   "cell_type": "code",
   "execution_count": 23,
   "metadata": {},
   "outputs": [
    {
     "ename": "AttributeError",
     "evalue": "'Model' object has no attribute 'model'",
     "output_type": "error",
     "traceback": [
      "\u001b[1;31m---------------------------------------------------------------------------\u001b[0m",
      "\u001b[1;31mAttributeError\u001b[0m                            Traceback (most recent call last)",
      "\u001b[1;32m<ipython-input-23-def4b0d01fab>\u001b[0m in \u001b[0;36m<module>\u001b[1;34m()\u001b[0m\n\u001b[0;32m      2\u001b[0m \u001b[1;32mfrom\u001b[0m \u001b[0mmatplotlib_util\u001b[0m \u001b[1;32mimport\u001b[0m \u001b[0msave_model_to_file\u001b[0m\u001b[1;33m\u001b[0m\u001b[0m\n\u001b[0;32m      3\u001b[0m \u001b[0msave_model_to_file\u001b[0m\u001b[1;33m(\u001b[0m\u001b[0mmodel\u001b[0m\u001b[1;33m,\u001b[0m \u001b[1;34m\"example12.pdf\"\u001b[0m\u001b[1;33m)\u001b[0m\u001b[1;33m\u001b[0m\u001b[0m\n\u001b[1;32m----> 4\u001b[1;33m \u001b[0mfig\u001b[0m \u001b[1;33m=\u001b[0m \u001b[0mmodel\u001b[0m\u001b[1;33m.\u001b[0m\u001b[0mmodel\u001b[0m\u001b[1;33m(\u001b[0m\u001b[0mfigsize\u001b[0m\u001b[1;33m=\u001b[0m\u001b[1;33m(\u001b[0m\u001b[1;36m6\u001b[0m\u001b[1;33m,\u001b[0m \u001b[1;36m3\u001b[0m\u001b[1;33m)\u001b[0m\u001b[1;33m,\u001b[0m \u001b[0mdpi\u001b[0m\u001b[1;33m=\u001b[0m\u001b[1;36m150\u001b[0m\u001b[1;33m)\u001b[0m\u001b[1;33m\u001b[0m\u001b[0m\n\u001b[0m",
      "\u001b[1;31mAttributeError\u001b[0m: 'Model' object has no attribute 'model'"
     ]
    },
    {
     "data": {
      "image/png": "[encoded data removed]",
      "text/plain": [
       "<Figure size 432x288 with 1 Axes>"
      ]
     },
     "metadata": {
      "needs_background": "light"
     },
     "output_type": "display_data"
    }
   ],
   "source": [
    "from convnet_drawer import Model, Conv2D, MaxPooling2D, Flatten, Dense\n",
    "from matplotlib_util import save_model_to_file\n",
    "save_model_to_file(model, \"example12.pdf\")"
   ]
  },
  {
   "cell_type": "code",
   "execution_count": 48,
   "metadata": {},
   "outputs": [
    {
     "name": "stdout",
     "output_type": "stream",
     "text": [
      "WARNING:tensorflow:From C:\\ProgramData\\Anaconda3\\lib\\site-packages\\tensorflow\\python\\ops\\math_ops.py:3066: to_int32 (from tensorflow.python.ops.math_ops) is deprecated and will be removed in a future version.\n",
      "Instructions for updating:\n",
      "Use tf.cast instead.\n",
      "Epoch 1/20\n",
      "7883/7883 [==============================] - 223s 28ms/step - loss: 131.5760 - mae: 6.5027 - accuracy: 1.2686e-04\n",
      "Epoch 2/20\n",
      "7883/7883 [==============================] - 225s 29ms/step - loss: 41.7591 - mae: 3.3932 - accuracy: 1.2686e-04\n",
      "Epoch 3/20\n",
      "7883/7883 [==============================] - 227s 29ms/step - loss: 19.8245 - mae: 2.4014 - accuracy: 2.5371e-04\n",
      "Epoch 4/20\n",
      "7883/7883 [==============================] - 233s 30ms/step - loss: 11.7429 - mae: 1.9607 - accuracy: 1.2686e-04\n",
      "Epoch 5/20\n",
      "7883/7883 [==============================] - 233s 30ms/step - loss: 7.0905 - mae: 1.6192 - accuracy: 0.0000e+00\n",
      "Epoch 6/20\n",
      "7883/7883 [==============================] - 233s 30ms/step - loss: 4.6125 - mae: 1.3210 - accuracy: 0.0000e+00\n",
      "Epoch 7/20\n",
      "7883/7883 [==============================] - 235s 30ms/step - loss: 3.3469 - mae: 1.0574 - accuracy: 3.8057e-04\n",
      "Epoch 8/20\n",
      "7883/7883 [==============================] - 236s 30ms/step - loss: 3.0523 - mae: 1.0125 - accuracy: 1.2686e-04\n",
      "Epoch 9/20\n",
      "7883/7883 [==============================] - 233s 30ms/step - loss: 2.4760 - mae: 0.9727 - accuracy: 2.5371e-04\n",
      "Epoch 10/20\n",
      "7883/7883 [==============================] - 233s 30ms/step - loss: 2.1043 - mae: 0.8532 - accuracy: 5.0742e-04\n",
      "Epoch 11/20\n",
      "7883/7883 [==============================] - 235s 30ms/step - loss: 1.5334 - mae: 0.7534 - accuracy: 5.0742e-04\n",
      "Epoch 12/20\n",
      "7883/7883 [==============================] - 233s 30ms/step - loss: 1.7324 - mae: 0.7959 - accuracy: 6.3428e-04\n",
      "Epoch 13/20\n",
      "7883/7883 [==============================] - 234s 30ms/step - loss: 1.4712 - mae: 0.7276 - accuracy: 2.5371e-04\n",
      "Epoch 14/20\n",
      "7883/7883 [==============================] - 238s 30ms/step - loss: 1.4021 - mae: 0.7037 - accuracy: 3.8057e-04\n",
      "Epoch 15/20\n",
      "7883/7883 [==============================] - 239s 30ms/step - loss: 8.8951 - mae: 0.8281 - accuracy: 2.5371e-04\n",
      "Epoch 16/20\n",
      "7883/7883 [==============================] - 242s 31ms/step - loss: 1.8178 - mae: 0.7121 - accuracy: 2.5371e-04\n",
      "Epoch 17/20\n",
      "7883/7883 [==============================] - 252s 32ms/step - loss: 1.3805 - mae: 0.7481 - accuracy: 6.3428e-04\n",
      "Epoch 18/20\n",
      "7883/7883 [==============================] - 259s 33ms/step - loss: 1.9437 - mae: 0.6094 - accuracy: 5.0742e-04\n",
      "Epoch 19/20\n",
      "7883/7883 [==============================] - 282s 36ms/step - loss: 1.0482 - mae: 0.6411 - accuracy: 2.5371e-04\n",
      "Epoch 20/20\n",
      "7883/7883 [==============================] - 264s 33ms/step - loss: 1.0439 - mae: 0.6413 - accuracy: 2.5371e-04\n"
     ]
    }
   ],
   "source": [
    "h = model.fit(x,y,epochs = 20 , batch_size=50)"
   ]
  },
  {
   "cell_type": "code",
   "execution_count": 49,
   "metadata": {},
   "outputs": [
    {
     "data": {
      "image/png": "[encoded data removed]",
      "text/plain": [
       "<Figure size 432x288 with 1 Axes>"
      ]
     },
     "metadata": {
      "needs_background": "light"
     },
     "output_type": "display_data"
    }
   ],
   "source": [
    "plt.plot(h.history['loss'])\n",
    "plt.legend(['Loss'])\n",
    "plt.grid()\n",
    "plt.xticks(range(1,51))\n",
    "plt.xlabel('Epochs-->')\n",
    "plt.show()"
   ]
  },
  {
   "cell_type": "code",
   "execution_count": 51,
   "metadata": {},
   "outputs": [
    {
     "data": {
      "image/png": "[encoded data removed]",
      "text/plain": [
       "<Figure size 432x288 with 1 Axes>"
      ]
     },
     "metadata": {
      "needs_background": "light"
     },
     "output_type": "display_data"
    }
   ],
   "source": [
    "plt.plot(h.history['accuracy'])\n",
    "plt.legend(['accuracy'])\n",
    "plt.grid()\n",
    "plt.xticks(range(1,25))\n",
    "plt.xlabel('Epochs-->')\n",
    "plt.show()"
   ]
  },
  {
   "cell_type": "code",
   "execution_count": null,
   "metadata": {},
   "outputs": [],
   "source": []
  }
 ],
 "metadata": {
  "kernelspec": {
   "display_name": "Python 3",
   "language": "python",
   "name": "python3"
  },
  "language_info": {
   "codemirror_mode": {
    "name": "ipython",
    "version": 3
   },
   "file_extension": ".py",
   "mimetype": "text/x-python",
   "name": "python",
   "nbconvert_exporter": "python",
   "pygments_lexer": "ipython3",
   "version": "3.7.0"
  }
 },
 "nbformat": 4,
 "nbformat_minor": 2
}
