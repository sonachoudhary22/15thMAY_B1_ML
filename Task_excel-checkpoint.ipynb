{
 "cells": [
  {
   "cell_type": "code",
   "execution_count": 2,
   "id": "6db8065a-2ee5-4182-ae54-06299b0e0af0",
   "metadata": {},
   "outputs": [],
   "source": [
    "import pandas as pd"
   ]
  },
  {
   "cell_type": "code",
   "execution_count": 4,
   "id": "dcf21484-4dcf-4980-9e6e-6650753b774d",
   "metadata": {},
   "outputs": [],
   "source": [
    "s = pd.read_excel('Food.xlsx')"
   ]
  },
  {
   "cell_type": "code",
   "execution_count": 5,
   "id": "e4af2ebc-94c3-498c-a705-cc3c3c73880e",
   "metadata": {},
   "outputs": [
    {
     "data": {
      "text/html": [
       "<div>\n",
       "<style scoped>\n",
       "    .dataframe tbody tr th:only-of-type {\n",
       "        vertical-align: middle;\n",
       "    }\n",
       "\n",
       "    .dataframe tbody tr th {\n",
       "        vertical-align: top;\n",
       "    }\n",
       "\n",
       "    .dataframe thead th {\n",
       "        text-align: right;\n",
       "    }\n",
       "</style>\n",
       "<table border=\"1\" class=\"dataframe\">\n",
       "  <thead>\n",
       "    <tr style=\"text-align: right;\">\n",
       "      <th></th>\n",
       "      <th>Name</th>\n",
       "      <th>Price</th>\n",
       "      <th>Place(city)</th>\n",
       "      <th>Color</th>\n",
       "      <th>Cuisine</th>\n",
       "      <th>Taste</th>\n",
       "    </tr>\n",
       "  </thead>\n",
       "  <tbody>\n",
       "    <tr>\n",
       "      <th>0</th>\n",
       "      <td>Panner</td>\n",
       "      <td>300</td>\n",
       "      <td>Mumbai</td>\n",
       "      <td>Red</td>\n",
       "      <td>Indian</td>\n",
       "      <td>Spicy</td>\n",
       "    </tr>\n",
       "    <tr>\n",
       "      <th>1</th>\n",
       "      <td>Pizza</td>\n",
       "      <td>200</td>\n",
       "      <td>Delhi</td>\n",
       "      <td>Yellow</td>\n",
       "      <td>Maxican</td>\n",
       "      <td>Yummy</td>\n",
       "    </tr>\n",
       "    <tr>\n",
       "      <th>2</th>\n",
       "      <td>Dosa</td>\n",
       "      <td>60</td>\n",
       "      <td>Karnataka</td>\n",
       "      <td>Red</td>\n",
       "      <td>South Indian</td>\n",
       "      <td>Bitter</td>\n",
       "    </tr>\n",
       "    <tr>\n",
       "      <th>3</th>\n",
       "      <td>Idli</td>\n",
       "      <td>30</td>\n",
       "      <td>Karnataka</td>\n",
       "      <td>White</td>\n",
       "      <td>South Indian</td>\n",
       "      <td>Salty</td>\n",
       "    </tr>\n",
       "    <tr>\n",
       "      <th>4</th>\n",
       "      <td>Fish</td>\n",
       "      <td>200</td>\n",
       "      <td>Kolkata</td>\n",
       "      <td>White</td>\n",
       "      <td>Indian</td>\n",
       "      <td>Yummy</td>\n",
       "    </tr>\n",
       "    <tr>\n",
       "      <th>5</th>\n",
       "      <td>Chowmin</td>\n",
       "      <td>100</td>\n",
       "      <td>Banglore</td>\n",
       "      <td>Brown</td>\n",
       "      <td>Chinese</td>\n",
       "      <td>Spicy</td>\n",
       "    </tr>\n",
       "    <tr>\n",
       "      <th>6</th>\n",
       "      <td>Rasgola</td>\n",
       "      <td>20</td>\n",
       "      <td>Kolkata</td>\n",
       "      <td>White</td>\n",
       "      <td>Indian</td>\n",
       "      <td>Sweet</td>\n",
       "    </tr>\n",
       "    <tr>\n",
       "      <th>7</th>\n",
       "      <td>Pav Bhaji</td>\n",
       "      <td>50</td>\n",
       "      <td>Mumbai</td>\n",
       "      <td>Red</td>\n",
       "      <td>Indian</td>\n",
       "      <td>Spicy</td>\n",
       "    </tr>\n",
       "    <tr>\n",
       "      <th>8</th>\n",
       "      <td>Enchiladas</td>\n",
       "      <td>80</td>\n",
       "      <td>Delhi</td>\n",
       "      <td>White</td>\n",
       "      <td>Maxican</td>\n",
       "      <td>Sour</td>\n",
       "    </tr>\n",
       "    <tr>\n",
       "      <th>9</th>\n",
       "      <td>Chili Chicken</td>\n",
       "      <td>150</td>\n",
       "      <td>jaipur</td>\n",
       "      <td>Red</td>\n",
       "      <td>Maxican</td>\n",
       "      <td>Spicy</td>\n",
       "    </tr>\n",
       "    <tr>\n",
       "      <th>10</th>\n",
       "      <td>Curd Rice</td>\n",
       "      <td>100</td>\n",
       "      <td>Karnataka</td>\n",
       "      <td>White</td>\n",
       "      <td>South Indian</td>\n",
       "      <td>Sweet</td>\n",
       "    </tr>\n",
       "    <tr>\n",
       "      <th>11</th>\n",
       "      <td>Pesarattu</td>\n",
       "      <td>200</td>\n",
       "      <td>Banglore</td>\n",
       "      <td>Yellow</td>\n",
       "      <td>South Indian</td>\n",
       "      <td>Sweet</td>\n",
       "    </tr>\n",
       "    <tr>\n",
       "      <th>12</th>\n",
       "      <td>HotPot</td>\n",
       "      <td>180</td>\n",
       "      <td>jaipur</td>\n",
       "      <td>Brown</td>\n",
       "      <td>Chinese</td>\n",
       "      <td>Salty</td>\n",
       "    </tr>\n",
       "    <tr>\n",
       "      <th>13</th>\n",
       "      <td>Dumplings</td>\n",
       "      <td>190</td>\n",
       "      <td>jaipur</td>\n",
       "      <td>Yellow</td>\n",
       "      <td>Chinese</td>\n",
       "      <td>Sour</td>\n",
       "    </tr>\n",
       "  </tbody>\n",
       "</table>\n",
       "</div>"
      ],
      "text/plain": [
       "             Name  Price Place(city)   Color       Cuisine   Taste\n",
       "0          Panner    300      Mumbai     Red        Indian   Spicy\n",
       "1           Pizza    200       Delhi  Yellow       Maxican   Yummy\n",
       "2            Dosa     60   Karnataka     Red  South Indian  Bitter\n",
       "3            Idli     30   Karnataka   White  South Indian   Salty\n",
       "4            Fish    200     Kolkata   White        Indian   Yummy\n",
       "5         Chowmin    100    Banglore   Brown       Chinese   Spicy\n",
       "6         Rasgola     20     Kolkata   White        Indian   Sweet\n",
       "7       Pav Bhaji     50      Mumbai     Red        Indian   Spicy\n",
       "8      Enchiladas     80       Delhi   White       Maxican    Sour\n",
       "9   Chili Chicken    150      jaipur     Red       Maxican   Spicy\n",
       "10      Curd Rice    100   Karnataka   White  South Indian   Sweet\n",
       "11      Pesarattu    200    Banglore  Yellow  South Indian   Sweet\n",
       "12         HotPot    180      jaipur   Brown       Chinese   Salty\n",
       "13      Dumplings    190      jaipur  Yellow       Chinese    Sour"
      ]
     },
     "execution_count": 5,
     "metadata": {},
     "output_type": "execute_result"
    }
   ],
   "source": [
    "s"
   ]
  },
  {
   "cell_type": "code",
   "execution_count": 6,
   "id": "5bcf6761-3faf-4930-9f06-021044a014fe",
   "metadata": {},
   "outputs": [
    {
     "data": {
      "text/plain": [
       "(14, 6)"
      ]
     },
     "execution_count": 6,
     "metadata": {},
     "output_type": "execute_result"
    }
   ],
   "source": [
    "s.shape"
   ]
  },
  {
   "cell_type": "code",
   "execution_count": 7,
   "id": "ddffdaa1-5537-4f70-a5fd-35a20e53819e",
   "metadata": {},
   "outputs": [
    {
     "data": {
      "text/plain": [
       "84"
      ]
     },
     "execution_count": 7,
     "metadata": {},
     "output_type": "execute_result"
    }
   ],
   "source": [
    "s.size"
   ]
  },
  {
   "cell_type": "code",
   "execution_count": 12,
   "id": "0bc986d6-01e6-43da-874b-b2f5c6630450",
   "metadata": {},
   "outputs": [
    {
     "data": {
      "text/plain": [
       "0            Panner\n",
       "1             Pizza\n",
       "2              Dosa\n",
       "4              Fish\n",
       "5           Chowmin\n",
       "8        Enchiladas\n",
       "9     Chili Chicken\n",
       "10        Curd Rice\n",
       "11        Pesarattu\n",
       "12           HotPot\n",
       "13        Dumplings\n",
       "Name: Name, dtype: object"
      ]
     },
     "execution_count": 12,
     "metadata": {},
     "output_type": "execute_result"
    }
   ],
   "source": [
    "s['Name'][(s['Price']>50)]"
   ]
  },
  {
   "cell_type": "code",
   "execution_count": 15,
   "id": "ee7d7fbc-5aad-434b-89eb-0bb91a4e5de4",
   "metadata": {},
   "outputs": [
    {
     "data": {
      "text/html": [
       "<div>\n",
       "<style scoped>\n",
       "    .dataframe tbody tr th:only-of-type {\n",
       "        vertical-align: middle;\n",
       "    }\n",
       "\n",
       "    .dataframe tbody tr th {\n",
       "        vertical-align: top;\n",
       "    }\n",
       "\n",
       "    .dataframe thead th {\n",
       "        text-align: right;\n",
       "    }\n",
       "</style>\n",
       "<table border=\"1\" class=\"dataframe\">\n",
       "  <thead>\n",
       "    <tr style=\"text-align: right;\">\n",
       "      <th></th>\n",
       "      <th>Name</th>\n",
       "      <th>Cuisine</th>\n",
       "    </tr>\n",
       "  </thead>\n",
       "  <tbody>\n",
       "    <tr>\n",
       "      <th>0</th>\n",
       "      <td>Panner</td>\n",
       "      <td>Indian</td>\n",
       "    </tr>\n",
       "    <tr>\n",
       "      <th>5</th>\n",
       "      <td>Chowmin</td>\n",
       "      <td>Chinese</td>\n",
       "    </tr>\n",
       "    <tr>\n",
       "      <th>9</th>\n",
       "      <td>Chili Chicken</td>\n",
       "      <td>Maxican</td>\n",
       "    </tr>\n",
       "  </tbody>\n",
       "</table>\n",
       "</div>"
      ],
      "text/plain": [
       "            Name  Cuisine\n",
       "0         Panner   Indian\n",
       "5        Chowmin  Chinese\n",
       "9  Chili Chicken  Maxican"
      ]
     },
     "execution_count": 15,
     "metadata": {},
     "output_type": "execute_result"
    }
   ],
   "source": [
    "s[['Name','Cuisine']][(s['Price']>50)&(s['Taste']=='Spicy')]"
   ]
  },
  {
   "cell_type": "code",
   "execution_count": 18,
   "id": "fb04224f-9220-41b4-b21e-9050cb42831a",
   "metadata": {},
   "outputs": [
    {
     "data": {
      "text/html": [
       "<div>\n",
       "<style scoped>\n",
       "    .dataframe tbody tr th:only-of-type {\n",
       "        vertical-align: middle;\n",
       "    }\n",
       "\n",
       "    .dataframe tbody tr th {\n",
       "        vertical-align: top;\n",
       "    }\n",
       "\n",
       "    .dataframe thead th {\n",
       "        text-align: right;\n",
       "    }\n",
       "</style>\n",
       "<table border=\"1\" class=\"dataframe\">\n",
       "  <thead>\n",
       "    <tr style=\"text-align: right;\">\n",
       "      <th></th>\n",
       "      <th>Name</th>\n",
       "      <th>Price</th>\n",
       "      <th>Place(city)</th>\n",
       "      <th>Color</th>\n",
       "      <th>Cuisine</th>\n",
       "      <th>Taste</th>\n",
       "    </tr>\n",
       "  </thead>\n",
       "  <tbody>\n",
       "    <tr>\n",
       "      <th>13</th>\n",
       "      <td>Dumplings</td>\n",
       "      <td>190</td>\n",
       "      <td>jaipur</td>\n",
       "      <td>Yellow</td>\n",
       "      <td>Chinese</td>\n",
       "      <td>Sour</td>\n",
       "    </tr>\n",
       "    <tr>\n",
       "      <th>1</th>\n",
       "      <td>Pizza</td>\n",
       "      <td>200</td>\n",
       "      <td>Delhi</td>\n",
       "      <td>Yellow</td>\n",
       "      <td>Maxican</td>\n",
       "      <td>Yummy</td>\n",
       "    </tr>\n",
       "    <tr>\n",
       "      <th>8</th>\n",
       "      <td>Enchiladas</td>\n",
       "      <td>80</td>\n",
       "      <td>Delhi</td>\n",
       "      <td>White</td>\n",
       "      <td>Maxican</td>\n",
       "      <td>Sour</td>\n",
       "    </tr>\n",
       "    <tr>\n",
       "      <th>5</th>\n",
       "      <td>Chowmin</td>\n",
       "      <td>100</td>\n",
       "      <td>Banglore</td>\n",
       "      <td>Brown</td>\n",
       "      <td>Chinese</td>\n",
       "      <td>Spicy</td>\n",
       "    </tr>\n",
       "  </tbody>\n",
       "</table>\n",
       "</div>"
      ],
      "text/plain": [
       "          Name  Price Place(city)   Color  Cuisine  Taste\n",
       "13   Dumplings    190      jaipur  Yellow  Chinese   Sour\n",
       "1        Pizza    200       Delhi  Yellow  Maxican  Yummy\n",
       "8   Enchiladas     80       Delhi   White  Maxican   Sour\n",
       "5      Chowmin    100    Banglore   Brown  Chinese  Spicy"
      ]
     },
     "execution_count": 18,
     "metadata": {},
     "output_type": "execute_result"
    }
   ],
   "source": [
    "s.sample(4)"
   ]
  },
  {
   "cell_type": "code",
   "execution_count": 19,
   "id": "2b98cbfc-2555-4b7e-b666-145c2ae6a658",
   "metadata": {},
   "outputs": [
    {
     "data": {
      "text/html": [
       "<div>\n",
       "<style scoped>\n",
       "    .dataframe tbody tr th:only-of-type {\n",
       "        vertical-align: middle;\n",
       "    }\n",
       "\n",
       "    .dataframe tbody tr th {\n",
       "        vertical-align: top;\n",
       "    }\n",
       "\n",
       "    .dataframe thead th {\n",
       "        text-align: right;\n",
       "    }\n",
       "</style>\n",
       "<table border=\"1\" class=\"dataframe\">\n",
       "  <thead>\n",
       "    <tr style=\"text-align: right;\">\n",
       "      <th></th>\n",
       "      <th>Name</th>\n",
       "      <th>Price</th>\n",
       "      <th>Place(city)</th>\n",
       "      <th>Color</th>\n",
       "      <th>Cuisine</th>\n",
       "      <th>Taste</th>\n",
       "    </tr>\n",
       "  </thead>\n",
       "  <tbody>\n",
       "    <tr>\n",
       "      <th>0</th>\n",
       "      <td>Panner</td>\n",
       "      <td>300</td>\n",
       "      <td>Mumbai</td>\n",
       "      <td>Red</td>\n",
       "      <td>Indian</td>\n",
       "      <td>Spicy</td>\n",
       "    </tr>\n",
       "    <tr>\n",
       "      <th>1</th>\n",
       "      <td>Pizza</td>\n",
       "      <td>200</td>\n",
       "      <td>Delhi</td>\n",
       "      <td>Yellow</td>\n",
       "      <td>Maxican</td>\n",
       "      <td>Yummy</td>\n",
       "    </tr>\n",
       "    <tr>\n",
       "      <th>2</th>\n",
       "      <td>Dosa</td>\n",
       "      <td>60</td>\n",
       "      <td>Karnataka</td>\n",
       "      <td>Red</td>\n",
       "      <td>South Indian</td>\n",
       "      <td>Bitter</td>\n",
       "    </tr>\n",
       "  </tbody>\n",
       "</table>\n",
       "</div>"
      ],
      "text/plain": [
       "     Name  Price Place(city)   Color       Cuisine   Taste\n",
       "0  Panner    300      Mumbai     Red        Indian   Spicy\n",
       "1   Pizza    200       Delhi  Yellow       Maxican   Yummy\n",
       "2    Dosa     60   Karnataka     Red  South Indian  Bitter"
      ]
     },
     "execution_count": 19,
     "metadata": {},
     "output_type": "execute_result"
    }
   ],
   "source": [
    "s.head(3)"
   ]
  },
  {
   "cell_type": "code",
   "execution_count": 20,
   "id": "1a71f25a-cdb9-45df-94f8-7a520447ef75",
   "metadata": {},
   "outputs": [
    {
     "data": {
      "text/html": [
       "<div>\n",
       "<style scoped>\n",
       "    .dataframe tbody tr th:only-of-type {\n",
       "        vertical-align: middle;\n",
       "    }\n",
       "\n",
       "    .dataframe tbody tr th {\n",
       "        vertical-align: top;\n",
       "    }\n",
       "\n",
       "    .dataframe thead th {\n",
       "        text-align: right;\n",
       "    }\n",
       "</style>\n",
       "<table border=\"1\" class=\"dataframe\">\n",
       "  <thead>\n",
       "    <tr style=\"text-align: right;\">\n",
       "      <th></th>\n",
       "      <th>Name</th>\n",
       "      <th>Price</th>\n",
       "      <th>Place(city)</th>\n",
       "      <th>Color</th>\n",
       "      <th>Cuisine</th>\n",
       "      <th>Taste</th>\n",
       "    </tr>\n",
       "  </thead>\n",
       "  <tbody>\n",
       "    <tr>\n",
       "      <th>11</th>\n",
       "      <td>Pesarattu</td>\n",
       "      <td>200</td>\n",
       "      <td>Banglore</td>\n",
       "      <td>Yellow</td>\n",
       "      <td>South Indian</td>\n",
       "      <td>Sweet</td>\n",
       "    </tr>\n",
       "    <tr>\n",
       "      <th>12</th>\n",
       "      <td>HotPot</td>\n",
       "      <td>180</td>\n",
       "      <td>jaipur</td>\n",
       "      <td>Brown</td>\n",
       "      <td>Chinese</td>\n",
       "      <td>Salty</td>\n",
       "    </tr>\n",
       "    <tr>\n",
       "      <th>13</th>\n",
       "      <td>Dumplings</td>\n",
       "      <td>190</td>\n",
       "      <td>jaipur</td>\n",
       "      <td>Yellow</td>\n",
       "      <td>Chinese</td>\n",
       "      <td>Sour</td>\n",
       "    </tr>\n",
       "  </tbody>\n",
       "</table>\n",
       "</div>"
      ],
      "text/plain": [
       "         Name  Price Place(city)   Color       Cuisine  Taste\n",
       "11  Pesarattu    200    Banglore  Yellow  South Indian  Sweet\n",
       "12     HotPot    180      jaipur   Brown       Chinese  Salty\n",
       "13  Dumplings    190      jaipur  Yellow       Chinese   Sour"
      ]
     },
     "execution_count": 20,
     "metadata": {},
     "output_type": "execute_result"
    }
   ],
   "source": [
    "s.tail(3)"
   ]
  },
  {
   "cell_type": "code",
   "execution_count": 21,
   "id": "37c2a5fb-8c63-434f-bf7f-364648c278e7",
   "metadata": {},
   "outputs": [
    {
     "data": {
      "text/html": [
       "<div>\n",
       "<style scoped>\n",
       "    .dataframe tbody tr th:only-of-type {\n",
       "        vertical-align: middle;\n",
       "    }\n",
       "\n",
       "    .dataframe tbody tr th {\n",
       "        vertical-align: top;\n",
       "    }\n",
       "\n",
       "    .dataframe thead th {\n",
       "        text-align: right;\n",
       "    }\n",
       "</style>\n",
       "<table border=\"1\" class=\"dataframe\">\n",
       "  <thead>\n",
       "    <tr style=\"text-align: right;\">\n",
       "      <th></th>\n",
       "      <th>Price</th>\n",
       "    </tr>\n",
       "  </thead>\n",
       "  <tbody>\n",
       "    <tr>\n",
       "      <th>count</th>\n",
       "      <td>14.000000</td>\n",
       "    </tr>\n",
       "    <tr>\n",
       "      <th>mean</th>\n",
       "      <td>132.857143</td>\n",
       "    </tr>\n",
       "    <tr>\n",
       "      <th>std</th>\n",
       "      <td>82.128283</td>\n",
       "    </tr>\n",
       "    <tr>\n",
       "      <th>min</th>\n",
       "      <td>20.000000</td>\n",
       "    </tr>\n",
       "    <tr>\n",
       "      <th>25%</th>\n",
       "      <td>65.000000</td>\n",
       "    </tr>\n",
       "    <tr>\n",
       "      <th>50%</th>\n",
       "      <td>125.000000</td>\n",
       "    </tr>\n",
       "    <tr>\n",
       "      <th>75%</th>\n",
       "      <td>197.500000</td>\n",
       "    </tr>\n",
       "    <tr>\n",
       "      <th>max</th>\n",
       "      <td>300.000000</td>\n",
       "    </tr>\n",
       "  </tbody>\n",
       "</table>\n",
       "</div>"
      ],
      "text/plain": [
       "            Price\n",
       "count   14.000000\n",
       "mean   132.857143\n",
       "std     82.128283\n",
       "min     20.000000\n",
       "25%     65.000000\n",
       "50%    125.000000\n",
       "75%    197.500000\n",
       "max    300.000000"
      ]
     },
     "execution_count": 21,
     "metadata": {},
     "output_type": "execute_result"
    }
   ],
   "source": [
    "s.describe()"
   ]
  },
  {
   "cell_type": "code",
   "execution_count": 22,
   "id": "e820d85e-bde1-4995-86da-609c47616827",
   "metadata": {},
   "outputs": [
    {
     "data": {
      "text/plain": [
       "3          Idli\n",
       "10    Curd Rice\n",
       "Name: Name, dtype: object"
      ]
     },
     "execution_count": 22,
     "metadata": {},
     "output_type": "execute_result"
    }
   ],
   "source": [
    "s['Name'][(s['Color']=='White')&(s['Place(city)']=='Karnataka')]"
   ]
  },
  {
   "cell_type": "code",
   "execution_count": null,
   "id": "75aa64d4-4257-444c-88bb-6872df51eebf",
   "metadata": {},
   "outputs": [],
   "source": []
  }
 ],
 "metadata": {
  "kernelspec": {
   "display_name": "Python 3",
   "language": "python",
   "name": "python3"
  },
  "language_info": {
   "codemirror_mode": {
    "name": "ipython",
    "version": 3
   },
   "file_extension": ".py",
   "mimetype": "text/x-python",
   "name": "python",
   "nbconvert_exporter": "python",
   "pygments_lexer": "ipython3",
   "version": "3.8.8"
  }
 },
 "nbformat": 4,
 "nbformat_minor": 5
}
