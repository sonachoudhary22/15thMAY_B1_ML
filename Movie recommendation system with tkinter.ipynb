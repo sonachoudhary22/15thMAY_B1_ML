{
 "cells": [
  {
   "cell_type": "code",
   "execution_count": 1,
   "metadata": {},
   "outputs": [],
   "source": [
    "import pandas as pd\n",
    "import warnings\n",
    "import tkinter as tk\n",
    "warnings.filterwarnings('ignore')"
   ]
  },
  {
   "cell_type": "code",
   "execution_count": 29,
   "metadata": {},
   "outputs": [
    {
     "name": "stdout",
     "output_type": "stream",
     "text": [
      "Empire Strikes Back, The (1980)\n",
      "Empire Strikes Back, The (1980)\n"
     ]
    }
   ],
   "source": [
    "cols ='user_id item_id rating timestamp'.split()\n",
    "df=pd.read_csv('u.data',sep='\\t',names=cols)\n",
    "cols_movies=['item_id','title']+[str(i) for i in range(22)]\n",
    "movie_titles = pd.read_csv('u.item',sep='|',names=cols_movies, encoding='latin-1')\n",
    "movie_titles=movie_titles[['item_id','title']]\n",
    "data= pd.merge(df,movie_titles,on='item_id')\n",
    "rating=pd.DataFrame(data.groupby('title')['rating'].mean())\n",
    "rating['count']=data['title'].value_counts()\n",
    "pivot_df=data.pivot_table(index='user_id',columns ='title',values='rating')\n",
    "\n",
    "app=tk.Tk()\n",
    "app.title('Recomender System')\n",
    "app.geometry('350x200')\n",
    "\n",
    "tk.Label(app,text='Movie You Watched').place(x=25,y=25)\n",
    "tk.Label(app,text='Recomended for you').place(x=25,y=100)\n",
    "tk.Label(app,text='Also Try').place(x=25,y=125)\n",
    "\n",
    "movie_var=tk.Variable(app)\n",
    "tk.Entry(app,textvariable=movie_var,width =25).place(x=150,y=25)\n",
    "\n",
    "recomend_var=tk.Variable(app)\n",
    "recomend_var.set('Type Movie Name')\n",
    "tk.Label(app,textvariable=recomend_var).place(x=150,y=100)\n",
    "\n",
    "also_try_var=tk.Variable(app)\n",
    "also_try_var.set('Type Movie Name')\n",
    "tk.Label(app,textvariable=also_try_var).place(x=150,y=125)\n",
    "\n",
    "def Find_recomendation():\n",
    "    movie=movie_var.get().lower().strip()\n",
    "    if movie:\n",
    "        try:\n",
    "            movie=movie_titles['title'][movie_titles['title'].apply(lambda x: movie in x.lower())].values[0]\n",
    "            movie_var.set(movie)\n",
    "        except IndexError:\n",
    "            recomend_var.set('Movie Not Found')\n",
    "            also_try_var.set('Movie Not Found')\n",
    "        else:\n",
    "            corr_df=pd.DataFrame(pivot_df.corrwith(pivot_df[movie]),columns =['Correlation'])\n",
    "            corr_df.dropna(inplace = True)\n",
    "            corr_df=corr_df.join(rating['count'])\n",
    "            recomend_var.set(corr_df[(corr_df['count']>200)&(corr_df['Correlation']>0.4)].sort_values(by='Correlation',ascending=False).index[1])\n",
    "            also_try_var.set((corr_df[corr_df['Correlation']>0.4].sort_values(by='Correlation',ascending=False).index[0]))\n",
    "\n",
    "tk.Button(app,text='Find Suggestion',command=Find_recomendation, bg='#00f',fg='#fff').place(x=125,y=60)\n",
    "\n",
    "app.mainloop()"
   ]
  },
  {
   "cell_type": "raw",
   "metadata": {},
   "source": []
  },
  {
   "cell_type": "code",
   "execution_count": null,
   "metadata": {},
   "outputs": [],
   "source": []
  },
  {
   "cell_type": "code",
   "execution_count": null,
   "metadata": {},
   "outputs": [],
   "source": [
    "\n"
   ]
  },
  {
   "cell_type": "code",
   "execution_count": null,
   "metadata": {},
   "outputs": [],
   "source": []
  }
 ],
 "metadata": {
  "kernelspec": {
   "display_name": "Python 3",
   "language": "python",
   "name": "python3"
  },
  "language_info": {
   "codemirror_mode": {
    "name": "ipython",
    "version": 3
   },
   "file_extension": ".py",
   "mimetype": "text/x-python",
   "name": "python",
   "nbconvert_exporter": "python",
   "pygments_lexer": "ipython3",
   "version": "3.7.0"
  }
 },
 "nbformat": 4,
 "nbformat_minor": 2
}
